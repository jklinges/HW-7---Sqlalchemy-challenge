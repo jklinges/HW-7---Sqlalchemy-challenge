{
 "cells": [
  {
   "cell_type": "markdown",
   "metadata": {},
   "source": [
    "# SQLAlchemy Homework¶"
   ]
  },
  {
   "cell_type": "code",
   "execution_count": 2,
   "metadata": {},
   "outputs": [],
   "source": [
    "#Import Libraries\n",
    "\n",
    "%matplotlib inline\n",
    "from matplotlib import style\n",
    "style.use('fivethirtyeight')\n",
    "import matplotlib.pyplot as plt\n",
    "import numpy as np\n",
    "import pandas as pd\n",
    "import datetime\n",
    "import sqlalchemy\n",
    "from sqlalchemy.ext.automap import automap_base\n",
    "from sqlalchemy.orm import Session\n",
    "from sqlalchemy import create_engine, inspect, func\n",
    "from scipy import stats as st\n",
    "import datetime as dt"
   ]
  },
  {
   "cell_type": "code",
   "execution_count": 3,
   "metadata": {},
   "outputs": [],
   "source": [
    "engine = create_engine(\"sqlite:///Resources/hawaii.sqlite\")"
   ]
  },
  {
   "cell_type": "code",
   "execution_count": 4,
   "metadata": {},
   "outputs": [],
   "source": [
    "# REFLECT AN EXISTING DATABASE INTO A NEW MODEL\n",
    "Base = automap_base()\n",
    "\n",
    "# REFLECT THE TABLES\n",
    "Base.prepare(engine, reflect=True)"
   ]
  },
  {
   "cell_type": "code",
   "execution_count": 5,
   "metadata": {},
   "outputs": [
    {
     "data": {
      "text/plain": [
       "['measurement', 'station']"
      ]
     },
     "execution_count": 5,
     "metadata": {},
     "output_type": "execute_result"
    }
   ],
   "source": [
    "# VIEW THE CLASSES FOUND BY AUTOMAP\n",
    "engine.table_names()"
   ]
  },
  {
   "cell_type": "code",
   "execution_count": 6,
   "metadata": {},
   "outputs": [],
   "source": [
    "# SAVE REFERENCES TO EACH TABLE\n",
    "Measurement = Base.classes.measurement\n",
    "Station = Base.classes.station"
   ]
  },
  {
   "cell_type": "code",
   "execution_count": 7,
   "metadata": {},
   "outputs": [],
   "source": [
    "# CREATE OUR SESSION (LINK) FROM PYTHON TO THE DB\n",
    "session = Session(engine)"
   ]
  },
  {
   "cell_type": "code",
   "execution_count": 8,
   "metadata": {},
   "outputs": [
    {
     "name": "stdout",
     "output_type": "stream",
     "text": [
      "id INTEGER\n",
      "station TEXT\n",
      "date TEXT\n",
      "prcp FLOAT\n",
      "tobs FLOAT\n"
     ]
    }
   ],
   "source": [
    "# LIST THE CONTENTS OF MEASUREMENT\n",
    "inspector = inspect(engine)\n",
    "columns = inspector.get_columns('measurement')\n",
    "for c in columns:\n",
    "    print(c['name'], c[\"type\"])"
   ]
  },
  {
   "cell_type": "code",
   "execution_count": 9,
   "metadata": {},
   "outputs": [
    {
     "name": "stdout",
     "output_type": "stream",
     "text": [
      "id INTEGER\n",
      "station TEXT\n",
      "name TEXT\n",
      "latitude FLOAT\n",
      "longitude FLOAT\n",
      "elevation FLOAT\n"
     ]
    }
   ],
   "source": [
    "# LIST THE CONTENTS OF STATION\n",
    "inspector = inspect(engine)\n",
    "columns = inspector.get_columns('station')\n",
    "for c in columns:\n",
    "    print(c['name'], c[\"type\"])"
   ]
  },
  {
   "cell_type": "markdown",
   "metadata": {},
   "source": [
    "# Precipitation Analysis¶\n",
    "Design a query to retrieve the last 12 months of precipitation data and plot the results"
   ]
  },
  {
   "cell_type": "code",
   "execution_count": 11,
   "metadata": {},
   "outputs": [
    {
     "name": "stdout",
     "output_type": "stream",
     "text": [
      "The most recent entry into this database was: 2017-08-23.\n",
      "A year before the most recent entry was: 2016-08-23.\n"
     ]
    }
   ],
   "source": [
    "# CALCULATE THE DATE 1 YEAR AGO FROM THE LAST DATA POINT IN THE DATABASE\n",
    "end_date = dt.datetime.strptime(session.query(Measurement.date)[-1:][0][0],'%Y-%m-%d')\n",
    "end_date = dt.date((end_date).year, (end_date).month, (end_date).day)\n",
    "start_date = dt.date((end_date).year-1, (end_date).month, (end_date).day)\n",
    "print(f\"The most recent entry into this database was: {end_date}.\")\n",
    "print(f\"A year before the most recent entry was: {start_date}.\")"
   ]
  },
  {
   "cell_type": "code",
   "execution_count": 12,
   "metadata": {},
   "outputs": [],
   "source": [
    "# PERFORM A QUERY TO RETRIEVE THE DATA AND PRECIPITATION SCORES\n",
    "sel = [Measurement.date, func.avg(Measurement.prcp)]\n",
    "query = session.query(*sel).\\\n",
    "    filter(func.strftime(Measurement.date) >= start_date).\\\n",
    "    group_by(Measurement.date).\\\n",
    "    order_by(Measurement.date).all()"
   ]
  },
  {
   "cell_type": "code",
   "execution_count": 13,
   "metadata": {},
   "outputs": [],
   "source": [
    "# SAVE THE QUERY RESULTS AS A PANDAS DATAFRAME AND SET THE INDEX TO THE DATE COLUMN.\n",
    "# SORT THE DATAFRAME BY DATE\n",
    "df = pd.DataFrame(query, columns=['Date','Precipitation']).set_index('Date').sort_values(by=['Date'])"
   ]
  },
  {
   "cell_type": "code",
   "execution_count": 14,
   "metadata": {},
   "outputs": [
    {
     "data": {
      "image/png": "[encoded data removed]",
      "text/plain": [
       "<Figure size 1800x504 with 1 Axes>"
      ]
     },
     "metadata": {},
     "output_type": "display_data"
    }
   ],
   "source": [
    "# USE PANDAS PLOTTING WITH MATPLOTLIB TO PLOT THE DATA\n",
    "bar_plot = df.plot.bar(figsize=(25,7),title=\"Avg. Daily Precipitation from 8/23/16 - 8/23/17\",legend=False)\n",
    "plt.xticks([])\n",
    "plt.yticks([0.0, 0.5, 1.0, 1.5, 2.0, 2.5])\n",
    "plt.tight_layout()\n",
    "plt.show()"
   ]
  },
  {
   "cell_type": "code",
   "execution_count": 15,
   "metadata": {},
   "outputs": [
    {
     "data": {
      "text/html": [
       "<div>\n",
       "<style scoped>\n",
       "    .dataframe tbody tr th:only-of-type {\n",
       "        vertical-align: middle;\n",
       "    }\n",
       "\n",
       "    .dataframe tbody tr th {\n",
       "        vertical-align: top;\n",
       "    }\n",
       "\n",
       "    .dataframe thead th {\n",
       "        text-align: right;\n",
       "    }\n",
       "</style>\n",
       "<table border=\"1\" class=\"dataframe\">\n",
       "  <thead>\n",
       "    <tr style=\"text-align: right;\">\n",
       "      <th></th>\n",
       "      <th>Precipitation</th>\n",
       "    </tr>\n",
       "  </thead>\n",
       "  <tbody>\n",
       "    <tr>\n",
       "      <th>count</th>\n",
       "      <td>366.000000</td>\n",
       "    </tr>\n",
       "    <tr>\n",
       "      <th>mean</th>\n",
       "      <td>0.170757</td>\n",
       "    </tr>\n",
       "    <tr>\n",
       "      <th>std</th>\n",
       "      <td>0.295683</td>\n",
       "    </tr>\n",
       "    <tr>\n",
       "      <th>min</th>\n",
       "      <td>0.000000</td>\n",
       "    </tr>\n",
       "    <tr>\n",
       "      <th>25%</th>\n",
       "      <td>0.008571</td>\n",
       "    </tr>\n",
       "    <tr>\n",
       "      <th>50%</th>\n",
       "      <td>0.070000</td>\n",
       "    </tr>\n",
       "    <tr>\n",
       "      <th>75%</th>\n",
       "      <td>0.191667</td>\n",
       "    </tr>\n",
       "    <tr>\n",
       "      <th>max</th>\n",
       "      <td>2.380000</td>\n",
       "    </tr>\n",
       "  </tbody>\n",
       "</table>\n",
       "</div>"
      ],
      "text/plain": [
       "       Precipitation\n",
       "count     366.000000\n",
       "mean        0.170757\n",
       "std         0.295683\n",
       "min         0.000000\n",
       "25%         0.008571\n",
       "50%         0.070000\n",
       "75%         0.191667\n",
       "max         2.380000"
      ]
     },
     "execution_count": 15,
     "metadata": {},
     "output_type": "execute_result"
    }
   ],
   "source": [
    "# USE PANDAS TO CALCULATE THE SUMMARY STATISTICS FOR THE PRECIPITATION DATA\n",
    "df.describe()"
   ]
  },
  {
   "cell_type": "code",
   "execution_count": null,
   "metadata": {},
   "outputs": [],
   "source": [
    "Station Analysis"
   ]
  },
  {
   "cell_type": "code",
   "execution_count": 16,
   "metadata": {},
   "outputs": [
    {
     "name": "stdout",
     "output_type": "stream",
     "text": [
      "There are a total of 9 stations in this dataset.\n"
     ]
    }
   ],
   "source": [
    "# DESIGN A QUERY TO SHOW HOW MANY STATIONS ARE AVAILABLE IN THIS DATASET\n",
    "query = session.query(Station.station).distinct('station')\n",
    "print(f\"There are a total of {query.count()} stations in this dataset.\")"
   ]
  },
  {
   "cell_type": "code",
   "execution_count": 17,
   "metadata": {},
   "outputs": [
    {
     "data": {
      "text/html": [
       "<div>\n",
       "<style scoped>\n",
       "    .dataframe tbody tr th:only-of-type {\n",
       "        vertical-align: middle;\n",
       "    }\n",
       "\n",
       "    .dataframe tbody tr th {\n",
       "        vertical-align: top;\n",
       "    }\n",
       "\n",
       "    .dataframe thead th {\n",
       "        text-align: right;\n",
       "    }\n",
       "</style>\n",
       "<table border=\"1\" class=\"dataframe\">\n",
       "  <thead>\n",
       "    <tr style=\"text-align: right;\">\n",
       "      <th></th>\n",
       "      <th>obs_count</th>\n",
       "    </tr>\n",
       "    <tr>\n",
       "      <th>station_id</th>\n",
       "      <th></th>\n",
       "    </tr>\n",
       "  </thead>\n",
       "  <tbody>\n",
       "    <tr>\n",
       "      <th>USC00519281</th>\n",
       "      <td>2772</td>\n",
       "    </tr>\n",
       "    <tr>\n",
       "      <th>USC00519397</th>\n",
       "      <td>2724</td>\n",
       "    </tr>\n",
       "    <tr>\n",
       "      <th>USC00513117</th>\n",
       "      <td>2709</td>\n",
       "    </tr>\n",
       "    <tr>\n",
       "      <th>USC00519523</th>\n",
       "      <td>2669</td>\n",
       "    </tr>\n",
       "    <tr>\n",
       "      <th>USC00516128</th>\n",
       "      <td>2612</td>\n",
       "    </tr>\n",
       "    <tr>\n",
       "      <th>USC00514830</th>\n",
       "      <td>2202</td>\n",
       "    </tr>\n",
       "    <tr>\n",
       "      <th>USC00511918</th>\n",
       "      <td>1979</td>\n",
       "    </tr>\n",
       "    <tr>\n",
       "      <th>USC00517948</th>\n",
       "      <td>1372</td>\n",
       "    </tr>\n",
       "    <tr>\n",
       "      <th>USC00518838</th>\n",
       "      <td>511</td>\n",
       "    </tr>\n",
       "  </tbody>\n",
       "</table>\n",
       "</div>"
      ],
      "text/plain": [
       "             obs_count\n",
       "station_id            \n",
       "USC00519281       2772\n",
       "USC00519397       2724\n",
       "USC00513117       2709\n",
       "USC00519523       2669\n",
       "USC00516128       2612\n",
       "USC00514830       2202\n",
       "USC00511918       1979\n",
       "USC00517948       1372\n",
       "USC00518838        511"
      ]
     },
     "execution_count": 17,
     "metadata": {},
     "output_type": "execute_result"
    }
   ],
   "source": [
    "# WHAT IS THE MOST ACTIVE STATION?\n",
    "# LIST THE STATIONS AND THE TEMPERATURE OBSERVATIONS IN DESCENDING ORDER.\n",
    "sel = [Measurement.station, func.count(Measurement.tobs)]\n",
    "query = session.query(*sel).\\\n",
    "    group_by(Measurement.station).\\\n",
    "    order_by(func.count(Measurement.tobs).desc())\n",
    "query_df = pd.DataFrame(query, columns=['station_id','obs_count']).set_index('station_id')\n",
    "max_station = query_df.index[0]\n",
    "query_df"
   ]
  },
  {
   "cell_type": "code",
   "execution_count": 18,
   "metadata": {},
   "outputs": [
    {
     "data": {
      "text/html": [
       "<div>\n",
       "<style scoped>\n",
       "    .dataframe tbody tr th:only-of-type {\n",
       "        vertical-align: middle;\n",
       "    }\n",
       "\n",
       "    .dataframe tbody tr th {\n",
       "        vertical-align: top;\n",
       "    }\n",
       "\n",
       "    .dataframe thead th {\n",
       "        text-align: right;\n",
       "    }\n",
       "</style>\n",
       "<table border=\"1\" class=\"dataframe\">\n",
       "  <thead>\n",
       "    <tr style=\"text-align: right;\">\n",
       "      <th></th>\n",
       "      <th>tmin</th>\n",
       "      <th>tavg</th>\n",
       "      <th>tmax</th>\n",
       "    </tr>\n",
       "  </thead>\n",
       "  <tbody>\n",
       "    <tr>\n",
       "      <th>0</th>\n",
       "      <td>54.0</td>\n",
       "      <td>85.0</td>\n",
       "      <td>71.663781</td>\n",
       "    </tr>\n",
       "  </tbody>\n",
       "</table>\n",
       "</div>"
      ],
      "text/plain": [
       "   tmin  tavg       tmax\n",
       "0  54.0  85.0  71.663781"
      ]
     },
     "execution_count": 18,
     "metadata": {},
     "output_type": "execute_result"
    }
   ],
   "source": [
    "# USING THE STATION ID FROM THE PREVIOUS QUERY, CALCULATE THE LOWEST TEMPERATURE RECORDED,\n",
    "# HIGHEST TEMPERATURE RECORDED, AND AVERAGE TEMPERATURE OF THE MOST ACTIVE STATION.\n",
    "sel = [func.min(Measurement.tobs), func.max(Measurement.tobs), func.avg(Measurement.tobs)]\n",
    "query = session.query(*sel).\\\n",
    "    filter(Measurement.station == max_station).all()\n",
    "query_df = pd.DataFrame(query, columns=['tmin','tavg','tmax'])\n",
    "query_df"
   ]
  },
  {
   "cell_type": "code",
   "execution_count": 19,
   "metadata": {},
   "outputs": [
    {
     "data": {
      "image/png": "[encoded data removed]",
      "text/plain": [
       "<Figure size 1080x360 with 1 Axes>"
      ]
     },
     "metadata": {},
     "output_type": "display_data"
    }
   ],
   "source": [
    "# CHOOSE THE STATION WITH THE HIGHEST NUMBER OF TEMPERATURE OBSERVATIONS.\n",
    "# QUERY THE LAST 12 MONTHS OF TEMPERATURE OBSERVATION DATA FOR THIS STATION AND PLOT THE RESULTS AS A HISTOGRAM\n",
    "sel = [Measurement.date, Measurement.tobs]\n",
    "query = session.query(*sel).\\\n",
    "    filter(Measurement.station == max_station).\\\n",
    "    filter(func.strftime(Measurement.date) >= start_date).\\\n",
    "    group_by(Measurement.date).\\\n",
    "    order_by(func.count(Measurement.tobs).desc())\n",
    "df = pd.DataFrame(query[:][:], columns=['date','tobs'])\n",
    "df.plot.hist(figsize=(15,5), title = \"Temperature Observations at Station 'USC00519281' Over The Last Year\").set_xlabel(\"Temperature\")\n",
    "plt.tight_layout()"
   ]
  },
  {
   "cell_type": "code",
   "execution_count": null,
   "metadata": {},
   "outputs": [],
   "source": [
    "Bonus: Other Recommended Analyses"
   ]
  },
  {
   "cell_type": "code",
   "execution_count": 20,
   "metadata": {},
   "outputs": [],
   "source": [
    "# THE FOLLOWING ARE OPTIONAL CHALLENGE QUERIES.\n",
    "# THESE ARE HIGHLY RECOMENDED TO ATTEMPT, BUT NOT REQUIRED FOR THE HOMEOWRK."
   ]
  },
  {
   "cell_type": "code",
   "execution_count": 21,
   "metadata": {},
   "outputs": [],
   "source": [
    "trip_start_previous_year = '2016-04-01'\n",
    "trip_end_previous_year = '2016-04-20'\n",
    "\n",
    "trip_start = '2017-04-01'\n",
    "trip_end = '2017-04-20'"
   ]
  },
  {
   "cell_type": "markdown",
   "metadata": {},
   "source": [
    "# Temperature Analysis I"
   ]
  },
  {
   "cell_type": "code",
   "execution_count": 22,
   "metadata": {},
   "outputs": [],
   "source": [
    "# SELECT AVERAGE TEMPERATURES FOR ALL STATIONS IN JUNE.\n",
    "sel = [Measurement.station, func.avg(Measurement.tobs)]\n",
    "june_query = session.query(*sel).\\\n",
    "    filter(Measurement.date.like('%-06-%')).\\\n",
    "    group_by(Measurement.station)\n",
    "june_df = pd.DataFrame(june_query, columns=['station_id','avg_temp']).set_index('station_id')"
   ]
  },
  {
   "cell_type": "code",
   "execution_count": 23,
   "metadata": {},
   "outputs": [],
   "source": [
    "# SELECT AVERAGE TEMPERATURES FOR ALL STATIONS IN DECEMBER.\n",
    "sel = [Measurement.station, func.avg(Measurement.tobs)]\n",
    "december_query = session.query(*sel).\\\n",
    "    filter(Measurement.date.like('%-12-%')).\\\n",
    "    group_by(Measurement.station)\n",
    "december_df = pd.DataFrame(december_query, columns=['station_id','avg_temp']).set_index('station_id')"
   ]
  },
  {
   "cell_type": "code",
   "execution_count": 24,
   "metadata": {},
   "outputs": [
    {
     "data": {
      "text/html": [
       "<div>\n",
       "<style scoped>\n",
       "    .dataframe tbody tr th:only-of-type {\n",
       "        vertical-align: middle;\n",
       "    }\n",
       "\n",
       "    .dataframe tbody tr th {\n",
       "        vertical-align: top;\n",
       "    }\n",
       "\n",
       "    .dataframe thead th {\n",
       "        text-align: right;\n",
       "    }\n",
       "</style>\n",
       "<table border=\"1\" class=\"dataframe\">\n",
       "  <thead>\n",
       "    <tr style=\"text-align: right;\">\n",
       "      <th></th>\n",
       "      <th>avg_temp_june</th>\n",
       "      <th>avg_temp_december</th>\n",
       "    </tr>\n",
       "    <tr>\n",
       "      <th>station_id</th>\n",
       "      <th></th>\n",
       "      <th></th>\n",
       "    </tr>\n",
       "  </thead>\n",
       "  <tbody>\n",
       "    <tr>\n",
       "      <th>USC00511918</th>\n",
       "      <td>74.139394</td>\n",
       "      <td>69.684211</td>\n",
       "    </tr>\n",
       "    <tr>\n",
       "      <th>USC00513117</th>\n",
       "      <td>74.050847</td>\n",
       "      <td>71.069444</td>\n",
       "    </tr>\n",
       "    <tr>\n",
       "      <th>USC00514830</th>\n",
       "      <td>76.005376</td>\n",
       "      <td>73.224719</td>\n",
       "    </tr>\n",
       "    <tr>\n",
       "      <th>USC00516128</th>\n",
       "      <td>71.937220</td>\n",
       "      <td>69.291262</td>\n",
       "    </tr>\n",
       "    <tr>\n",
       "      <th>USC00517948</th>\n",
       "      <td>76.655405</td>\n",
       "      <td>71.834862</td>\n",
       "    </tr>\n",
       "    <tr>\n",
       "      <th>USC00518838</th>\n",
       "      <td>73.394737</td>\n",
       "      <td>72.421053</td>\n",
       "    </tr>\n",
       "    <tr>\n",
       "      <th>USC00519281</th>\n",
       "      <td>73.271186</td>\n",
       "      <td>69.903226</td>\n",
       "    </tr>\n",
       "    <tr>\n",
       "      <th>USC00519397</th>\n",
       "      <td>77.559322</td>\n",
       "      <td>71.109524</td>\n",
       "    </tr>\n",
       "    <tr>\n",
       "      <th>USC00519523</th>\n",
       "      <td>76.668103</td>\n",
       "      <td>72.433333</td>\n",
       "    </tr>\n",
       "  </tbody>\n",
       "</table>\n",
       "</div>"
      ],
      "text/plain": [
       "             avg_temp_june  avg_temp_december\n",
       "station_id                                   \n",
       "USC00511918      74.139394          69.684211\n",
       "USC00513117      74.050847          71.069444\n",
       "USC00514830      76.005376          73.224719\n",
       "USC00516128      71.937220          69.291262\n",
       "USC00517948      76.655405          71.834862\n",
       "USC00518838      73.394737          72.421053\n",
       "USC00519281      73.271186          69.903226\n",
       "USC00519397      77.559322          71.109524\n",
       "USC00519523      76.668103          72.433333"
      ]
     },
     "execution_count": 24,
     "metadata": {},
     "output_type": "execute_result"
    }
   ],
   "source": [
    "temperature_df = june_df.merge(december_df, on='station_id', suffixes=['_june','_december'])\n",
    "temperature_df"
   ]
  },
  {
   "cell_type": "code",
   "execution_count": 25,
   "metadata": {},
   "outputs": [
    {
     "data": {
      "image/png": "[encoded data removed]",
      "text/plain": [
       "<Figure size 720x432 with 1 Axes>"
      ]
     },
     "metadata": {},
     "output_type": "display_data"
    }
   ],
   "source": [
    "# USE PANDAS PLOTTING WITH MATPLOTLIB TO PLOT THE DATA\n",
    "bar_plot = temperature_df.plot.bar(figsize=(10,6),title=\"Average Temperatures in June vs December\")\n",
    "plt.legend(loc='lower center',)\n",
    "plt.xlabel('Station ID')\n",
    "plt.ylabel('Temperature (F)')\n",
    "plt.tight_layout()\n",
    "plt.show()"
   ]
  },
  {
   "cell_type": "code",
   "execution_count": 26,
   "metadata": {},
   "outputs": [
    {
     "ename": "SyntaxError",
     "evalue": "invalid syntax (<ipython-input-26-4e4622eb03fd>, line 1)",
     "output_type": "error",
     "traceback": [
      "\u001b[1;36m  File \u001b[1;32m\"<ipython-input-26-4e4622eb03fd>\"\u001b[1;36m, line \u001b[1;32m1\u001b[0m\n\u001b[1;33m    JUNE STATIONS = DECEMBER STATIONS, SO PAIRED T-TEST\u001b[0m\n\u001b[1;37m                ^\u001b[0m\n\u001b[1;31mSyntaxError\u001b[0m\u001b[1;31m:\u001b[0m invalid syntax\n"
     ]
    }
   ],
   "source": [
    " JUNE STATIONS = DECEMBER STATIONS, SO PAIRED T-TEST\n",
    "t, p = st.ttest_rel(temperature_df.avg_temp_june, temperature_df.avg_temp_december)\n",
    "print(f\"T-Value: {t}\")\n",
    "print(f\"P-Value: {p}\")\n",
    "print(\"These results are statistically significant.\")"
   ]
  },
  {
   "cell_type": "markdown",
   "metadata": {},
   "source": [
    "# Temperature Analysis II"
   ]
  },
  {
   "cell_type": "code",
   "execution_count": 27,
   "metadata": {},
   "outputs": [
    {
     "name": "stdout",
     "output_type": "stream",
     "text": [
      "[(62.0, 69.57142857142857, 74.0)]\n"
     ]
    }
   ],
   "source": [
    "# THIS FUNCTION CALLED 'calc_temps' WILL ACCEPT START DATE AND END DATE IN THE FORMAT '%Y-%m-%d'\n",
    "# AND RETURN THE MINIMUM, AVERAGE, AND MAXIMUM TEMPERATURES FOR THAT RANGE OF DATES\n",
    "def calc_temps(start_date, end_date):\n",
    "    sel = [func.min(Measurement.tobs), func.avg(Measurement.tobs), func.max(Measurement.tobs)]\n",
    "    return session.query(*sel).\\\n",
    "    filter(Measurement.date >= start_date).filter(Measurement.date <= end_date).all()\n",
    "print(calc_temps('2012-02-28', '2012-03-05'))"
   ]
  },
  {
   "cell_type": "code",
   "execution_count": 28,
   "metadata": {},
   "outputs": [
    {
     "name": "stdout",
     "output_type": "stream",
     "text": [
      "Minimum Temperature During Previous Year's Trip Time: 65.0.\n",
      "Average Temperature During Previous Year's Trip Time: 73.14.\n",
      "Maximum Temperature During Previous Year's Trip Time: 80.0.\n"
     ]
    }
   ],
   "source": [
    "# USE YOUR PREVIOUS FUNCTION 'calc_temps' TO CALCULATE THE TMIN, TAVG, AND TMAX\n",
    "# FOR YOUR TRIP USING THE PREVIOUS YEAR'S DATA FOR THOSE SAME DATES.\n",
    "query = calc_temps(trip_start_previous_year,trip_end_previous_year)\n",
    "tmin = round(query[0][0],2)\n",
    "tavg = round(query[0][1],2)\n",
    "tmax = round(query[0][2],2)\n",
    "_yerr = tmax-tmin\n",
    "print(f\"\"\"Minimum Temperature During Previous Year's Trip Time: {tmin}.\n",
    "Average Temperature During Previous Year's Trip Time: {tavg}.\n",
    "Maximum Temperature During Previous Year's Trip Time: {tmax}.\"\"\")"
   ]
  },
  {
   "cell_type": "code",
   "execution_count": 29,
   "metadata": {},
   "outputs": [
    {
     "data": {
      "image/png": "[encoded data removed]",
      "text/plain": [
       "<Figure size 360x432 with 1 Axes>"
      ]
     },
     "metadata": {},
     "output_type": "display_data"
    }
   ],
   "source": [
    "# PLOT THE RESULTS FROM YOUR PREVIOUS QUERY AS A BAR CHART.\n",
    "# USE \"TRIP AVG TEMP\" AS YOUR TITLE\n",
    "# USE THE AVERAGE TEMPERATURE FOR THE Y VALUE\n",
    "# USE THE PEEK-TO-PEEK (TMAX-TMIN) VALUE AS THE Y ERROR BAR (YERR)\n",
    "query_df = pd.DataFrame(query, columns=['tmin','tavg','tmax'])\n",
    "\n",
    "query_df.plot.bar(y='tavg',yerr=_yerr,figsize=(5,6))\n",
    "plt.xticks(np.arange(1, 1.0))\n",
    "plt.yticks(np.arange(0, tmax+5, 10))\n",
    "plt.ylabel(\"Temp (F)\")\n",
    "plt.title(\"Trip Avg Temp\")\n",
    "plt.tight_layout()"
   ]
  },
  {
   "cell_type": "code",
   "execution_count": 30,
   "metadata": {},
   "outputs": [
    {
     "data": {
      "text/html": [
       "<div>\n",
       "<style scoped>\n",
       "    .dataframe tbody tr th:only-of-type {\n",
       "        vertical-align: middle;\n",
       "    }\n",
       "\n",
       "    .dataframe tbody tr th {\n",
       "        vertical-align: top;\n",
       "    }\n",
       "\n",
       "    .dataframe thead th {\n",
       "        text-align: right;\n",
       "    }\n",
       "</style>\n",
       "<table border=\"1\" class=\"dataframe\">\n",
       "  <thead>\n",
       "    <tr style=\"text-align: right;\">\n",
       "      <th></th>\n",
       "      <th>station_name</th>\n",
       "      <th>total_rain</th>\n",
       "      <th>station_lat</th>\n",
       "      <th>station_long</th>\n",
       "      <th>station_elevation</th>\n",
       "    </tr>\n",
       "    <tr>\n",
       "      <th>station_id</th>\n",
       "      <th></th>\n",
       "      <th></th>\n",
       "      <th></th>\n",
       "      <th></th>\n",
       "      <th></th>\n",
       "    </tr>\n",
       "  </thead>\n",
       "  <tbody>\n",
       "    <tr>\n",
       "      <th>USC00516128</th>\n",
       "      <td>MANOA LYON ARBO 785.2, HI US</td>\n",
       "      <td>10.93</td>\n",
       "      <td>21.33310</td>\n",
       "      <td>-157.80250</td>\n",
       "      <td>152.4</td>\n",
       "    </tr>\n",
       "    <tr>\n",
       "      <th>USC00519281</th>\n",
       "      <td>WAIHEE 837.5, HI US</td>\n",
       "      <td>4.13</td>\n",
       "      <td>21.45167</td>\n",
       "      <td>-157.84889</td>\n",
       "      <td>32.9</td>\n",
       "    </tr>\n",
       "    <tr>\n",
       "      <th>USC00513117</th>\n",
       "      <td>KANEOHE 838.1, HI US</td>\n",
       "      <td>1.98</td>\n",
       "      <td>21.42340</td>\n",
       "      <td>-157.80150</td>\n",
       "      <td>14.6</td>\n",
       "    </tr>\n",
       "    <tr>\n",
       "      <th>USC00514830</th>\n",
       "      <td>KUALOA RANCH HEADQUARTERS 886.9, HI US</td>\n",
       "      <td>0.99</td>\n",
       "      <td>21.52130</td>\n",
       "      <td>-157.83740</td>\n",
       "      <td>7.0</td>\n",
       "    </tr>\n",
       "    <tr>\n",
       "      <th>USC00519523</th>\n",
       "      <td>WAIMANALO EXPERIMENTAL FARM, HI US</td>\n",
       "      <td>0.85</td>\n",
       "      <td>21.33556</td>\n",
       "      <td>-157.71139</td>\n",
       "      <td>19.5</td>\n",
       "    </tr>\n",
       "    <tr>\n",
       "      <th>USC00519397</th>\n",
       "      <td>WAIKIKI 717.2, HI US</td>\n",
       "      <td>0.35</td>\n",
       "      <td>21.27160</td>\n",
       "      <td>-157.81680</td>\n",
       "      <td>3.0</td>\n",
       "    </tr>\n",
       "    <tr>\n",
       "      <th>USC00517948</th>\n",
       "      <td>PEARL CITY, HI US</td>\n",
       "      <td>0.04</td>\n",
       "      <td>21.39340</td>\n",
       "      <td>-157.97510</td>\n",
       "      <td>11.9</td>\n",
       "    </tr>\n",
       "  </tbody>\n",
       "</table>\n",
       "</div>"
      ],
      "text/plain": [
       "                                       station_name  total_rain  station_lat  \\\n",
       "station_id                                                                     \n",
       "USC00516128            MANOA LYON ARBO 785.2, HI US       10.93     21.33310   \n",
       "USC00519281                     WAIHEE 837.5, HI US        4.13     21.45167   \n",
       "USC00513117                    KANEOHE 838.1, HI US        1.98     21.42340   \n",
       "USC00514830  KUALOA RANCH HEADQUARTERS 886.9, HI US        0.99     21.52130   \n",
       "USC00519523      WAIMANALO EXPERIMENTAL FARM, HI US        0.85     21.33556   \n",
       "USC00519397                    WAIKIKI 717.2, HI US        0.35     21.27160   \n",
       "USC00517948                       PEARL CITY, HI US        0.04     21.39340   \n",
       "\n",
       "             station_long  station_elevation  \n",
       "station_id                                    \n",
       "USC00516128    -157.80250              152.4  \n",
       "USC00519281    -157.84889               32.9  \n",
       "USC00513117    -157.80150               14.6  \n",
       "USC00514830    -157.83740                7.0  \n",
       "USC00519523    -157.71139               19.5  \n",
       "USC00519397    -157.81680                3.0  \n",
       "USC00517948    -157.97510               11.9  "
      ]
     },
     "execution_count": 30,
     "metadata": {},
     "output_type": "execute_result"
    }
   ],
   "source": [
    "# CALCULATE THE TOTAL AMOUNT OF RAINFALL PER WEATHER STATION FOR YOUR\n",
    "# TRIP DATES USING THE PREVIOUS YEAR'S MATCHING DATES.\n",
    "\n",
    "# SORT THIS IN DESCENDING ORDER BY PRECIPITATION AMOUNT AND LIST\n",
    "# THE STATION, NAME, LATITUDE, LONGITUDE, AND ELEVATION.\n",
    "\n",
    "# PERFORM A QUERY TO RETRIEVE THE DATA AND PRECIPITATION SCORES\n",
    "sel = [Measurement.station, Station.name, \n",
    "       func.sum(Measurement.prcp), Station.latitude,\n",
    "       Station.longitude, Station.elevation]\n",
    "\n",
    "query = session.query(*sel).\\\n",
    "    filter(Station.station == Measurement.station,\n",
    "           func.strftime(Measurement.date) >= trip_start_previous_year,\n",
    "          func.strftime(Measurement.date) <= trip_end_previous_year).\\\n",
    "    group_by(Measurement.station).\\\n",
    "    order_by(func.sum(Measurement.prcp).desc())\n",
    "query_df = pd.DataFrame(query, columns=['station_id','station_name','total_rain','station_lat','station_long','station_elevation']).set_index('station_id')\n",
    "query_df"
   ]
  },
  {
   "cell_type": "code",
   "execution_count": 31,
   "metadata": {},
   "outputs": [
    {
     "data": {
      "text/plain": [
       "[(62.0, 69.15384615384616, 77.0)]"
      ]
     },
     "execution_count": 31,
     "metadata": {},
     "output_type": "execute_result"
    }
   ],
   "source": [
    "# CREATE A QUERY THAT WILL CALCULATE THE DAILY NORMALS\n",
    "# (I.E. THE AVERAGES FOR TMIN, TMAX, AND TAVG FOR ALL HISTORIC DATA MATCHING A SPECIFIC MONTH AND DAY)\n",
    "def daily_normals(date):\n",
    "    sel = [func.min(Measurement.tobs), func.avg(Measurement.tobs), func.max(Measurement.tobs)]\n",
    "    return session.query(*sel).filter(func.strftime(\"%m-%d\", Measurement.date) == date).all()\n",
    "daily_normals(\"01-01\")"
   ]
  },
  {
   "cell_type": "code",
   "execution_count": 32,
   "metadata": {},
   "outputs": [],
   "source": [
    "# CALCULATE THE DAILY NORMALS FOR YOUR TRIP\n",
    "# PUSH EACH TUPLE OF CALCULATIONS INTO A LIST CALLED NORMALS\n",
    "\n",
    "# SET THE START AND END DATE OF THE TRIP\n",
    "start_date = datetime.datetime.strptime(trip_start, '%Y-%m-%d')\n",
    "end_date = datetime.datetime.strptime(trip_end, '%Y-%m-%d')\n",
    "\n",
    "# USE THE START AND END DATE TO CREATE A RANGE OF DATES\n",
    "date_range = [start_date + datetime.timedelta(days=x) for x in range(0, (end_date-start_date).days+1)]\n",
    "\n",
    "# STRIP OFF THE YEAR AND SAVE A LIST OF %m-%d STRINGS\n",
    "dates_stripped = [date_range[i].strftime('%m-%d') for i in range(len(date_range))]\n",
    "dates_stripped\n",
    "\n",
    "# LOOP THROUGH THE LIST OF %m-%d STRINGS AND CALCULATE THE NORMALS FOR EACH DATE\n",
    "normals = [daily_normals(i) for i in dates_stripped]"
   ]
  },
  {
   "cell_type": "code",
   "execution_count": 33,
   "metadata": {},
   "outputs": [
    {
     "data": {
      "text/html": [
       "<div>\n",
       "<style scoped>\n",
       "    .dataframe tbody tr th:only-of-type {\n",
       "        vertical-align: middle;\n",
       "    }\n",
       "\n",
       "    .dataframe tbody tr th {\n",
       "        vertical-align: top;\n",
       "    }\n",
       "\n",
       "    .dataframe thead th {\n",
       "        text-align: right;\n",
       "    }\n",
       "</style>\n",
       "<table border=\"1\" class=\"dataframe\">\n",
       "  <thead>\n",
       "    <tr style=\"text-align: right;\">\n",
       "      <th></th>\n",
       "      <th>TMINS</th>\n",
       "      <th>TAVGS</th>\n",
       "      <th>TMAXS</th>\n",
       "    </tr>\n",
       "    <tr>\n",
       "      <th>DATES</th>\n",
       "      <th></th>\n",
       "      <th></th>\n",
       "      <th></th>\n",
       "    </tr>\n",
       "  </thead>\n",
       "  <tbody>\n",
       "    <tr>\n",
       "      <th>04-01</th>\n",
       "      <td>60.0</td>\n",
       "      <td>71.879310</td>\n",
       "      <td>80.0</td>\n",
       "    </tr>\n",
       "    <tr>\n",
       "      <th>04-02</th>\n",
       "      <td>53.0</td>\n",
       "      <td>71.821429</td>\n",
       "      <td>79.0</td>\n",
       "    </tr>\n",
       "    <tr>\n",
       "      <th>04-03</th>\n",
       "      <td>55.0</td>\n",
       "      <td>72.228070</td>\n",
       "      <td>78.0</td>\n",
       "    </tr>\n",
       "    <tr>\n",
       "      <th>04-04</th>\n",
       "      <td>58.0</td>\n",
       "      <td>72.016393</td>\n",
       "      <td>78.0</td>\n",
       "    </tr>\n",
       "    <tr>\n",
       "      <th>04-05</th>\n",
       "      <td>61.0</td>\n",
       "      <td>72.288136</td>\n",
       "      <td>80.0</td>\n",
       "    </tr>\n",
       "    <tr>\n",
       "      <th>04-06</th>\n",
       "      <td>67.0</td>\n",
       "      <td>71.571429</td>\n",
       "      <td>77.0</td>\n",
       "    </tr>\n",
       "    <tr>\n",
       "      <th>04-07</th>\n",
       "      <td>63.0</td>\n",
       "      <td>71.105263</td>\n",
       "      <td>78.0</td>\n",
       "    </tr>\n",
       "    <tr>\n",
       "      <th>04-08</th>\n",
       "      <td>66.0</td>\n",
       "      <td>72.105263</td>\n",
       "      <td>77.0</td>\n",
       "    </tr>\n",
       "    <tr>\n",
       "      <th>04-09</th>\n",
       "      <td>62.0</td>\n",
       "      <td>71.614035</td>\n",
       "      <td>78.0</td>\n",
       "    </tr>\n",
       "    <tr>\n",
       "      <th>04-10</th>\n",
       "      <td>64.0</td>\n",
       "      <td>71.403509</td>\n",
       "      <td>79.0</td>\n",
       "    </tr>\n",
       "    <tr>\n",
       "      <th>04-11</th>\n",
       "      <td>65.0</td>\n",
       "      <td>72.491803</td>\n",
       "      <td>82.0</td>\n",
       "    </tr>\n",
       "    <tr>\n",
       "      <th>04-12</th>\n",
       "      <td>65.0</td>\n",
       "      <td>72.224138</td>\n",
       "      <td>80.0</td>\n",
       "    </tr>\n",
       "    <tr>\n",
       "      <th>04-13</th>\n",
       "      <td>64.0</td>\n",
       "      <td>71.525424</td>\n",
       "      <td>79.0</td>\n",
       "    </tr>\n",
       "    <tr>\n",
       "      <th>04-14</th>\n",
       "      <td>65.0</td>\n",
       "      <td>72.750000</td>\n",
       "      <td>81.0</td>\n",
       "    </tr>\n",
       "    <tr>\n",
       "      <th>04-15</th>\n",
       "      <td>61.0</td>\n",
       "      <td>71.793103</td>\n",
       "      <td>79.0</td>\n",
       "    </tr>\n",
       "    <tr>\n",
       "      <th>04-16</th>\n",
       "      <td>62.0</td>\n",
       "      <td>71.553571</td>\n",
       "      <td>81.0</td>\n",
       "    </tr>\n",
       "    <tr>\n",
       "      <th>04-17</th>\n",
       "      <td>65.0</td>\n",
       "      <td>71.931034</td>\n",
       "      <td>77.0</td>\n",
       "    </tr>\n",
       "    <tr>\n",
       "      <th>04-18</th>\n",
       "      <td>67.0</td>\n",
       "      <td>72.491525</td>\n",
       "      <td>77.0</td>\n",
       "    </tr>\n",
       "    <tr>\n",
       "      <th>04-19</th>\n",
       "      <td>65.0</td>\n",
       "      <td>72.421053</td>\n",
       "      <td>83.0</td>\n",
       "    </tr>\n",
       "    <tr>\n",
       "      <th>04-20</th>\n",
       "      <td>64.0</td>\n",
       "      <td>72.736842</td>\n",
       "      <td>80.0</td>\n",
       "    </tr>\n",
       "  </tbody>\n",
       "</table>\n",
       "</div>"
      ],
      "text/plain": [
       "       TMINS      TAVGS  TMAXS\n",
       "DATES                         \n",
       "04-01   60.0  71.879310   80.0\n",
       "04-02   53.0  71.821429   79.0\n",
       "04-03   55.0  72.228070   78.0\n",
       "04-04   58.0  72.016393   78.0\n",
       "04-05   61.0  72.288136   80.0\n",
       "04-06   67.0  71.571429   77.0\n",
       "04-07   63.0  71.105263   78.0\n",
       "04-08   66.0  72.105263   77.0\n",
       "04-09   62.0  71.614035   78.0\n",
       "04-10   64.0  71.403509   79.0\n",
       "04-11   65.0  72.491803   82.0\n",
       "04-12   65.0  72.224138   80.0\n",
       "04-13   64.0  71.525424   79.0\n",
       "04-14   65.0  72.750000   81.0\n",
       "04-15   61.0  71.793103   79.0\n",
       "04-16   62.0  71.553571   81.0\n",
       "04-17   65.0  71.931034   77.0\n",
       "04-18   67.0  72.491525   77.0\n",
       "04-19   65.0  72.421053   83.0\n",
       "04-20   64.0  72.736842   80.0"
      ]
     },
     "execution_count": 33,
     "metadata": {},
     "output_type": "execute_result"
    }
   ],
   "source": [
    "# LOAD THE PREVIOUS QUERY RESULTS INTO A PANDAS DATAFRAME AND ADD THE 'trip_dates' RANGE AS THE 'date' INDEX\n",
    "tmins = [normals[i][0][0] for i in range(len(normals))]\n",
    "tavgs = [normals[i][0][1] for i in range(len(normals))]\n",
    "tmaxs = [normals[i][0][2] for i in range(len(normals))]\n",
    "tvals = list(zip(dates_stripped, tmins, tavgs, tmaxs))\n",
    "trip_temperatures = pd.DataFrame(tvals, columns = ['DATES', 'TMINS', 'TAVGS', 'TMAXS']).set_index('DATES')\n",
    "trip_temperatures"
   ]
  },
  {
   "cell_type": "code",
   "execution_count": 34,
   "metadata": {},
   "outputs": [
    {
     "data": {
      "image/png": "[encoded data removed]",
      "text/plain": [
       "<Figure size 1080x504 with 1 Axes>"
      ]
     },
     "metadata": {},
     "output_type": "display_data"
    }
   ],
   "source": [
    "# PLOT THE DAILY NORMALS AS AN AREA PLOT WITH 'stacked=False'\n",
    "area_plot = trip_temperatures.plot.area(stacked=False, figsize=(15,7), title='Normals During Trip Time')\n",
    "plt.xlabel('Vacation Dates')\n",
    "plt.ylabel('Temperature (F)')\n",
    "plt.legend(loc='lower center')\n",
    "plt.tight_layout()"
   ]
  },
  {
   "cell_type": "code",
   "execution_count": null,
   "metadata": {},
   "outputs": [],
   "source": []
  }
 ],
 "metadata": {
  "kernelspec": {
   "display_name": "Python 3",
   "language": "python",
   "name": "python3"
  },
  "language_info": {
   "codemirror_mode": {
    "name": "ipython",
    "version": 3
   },
   "file_extension": ".py",
   "mimetype": "text/x-python",
   "name": "python",
   "nbconvert_exporter": "python",
   "pygments_lexer": "ipython3",
   "version": "3.6.10"
  }
 },
 "nbformat": 4,
 "nbformat_minor": 4
}
